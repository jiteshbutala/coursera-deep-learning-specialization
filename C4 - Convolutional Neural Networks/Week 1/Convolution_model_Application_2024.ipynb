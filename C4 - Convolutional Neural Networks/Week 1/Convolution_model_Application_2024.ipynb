{
 "cells": [
  {
   "cell_type": "markdown",
   "metadata": {},
   "source": [
    "# Convolutional Neural Networks: Application\n",
    "\n",
    "Welcome to Course 4's second assignment! In this notebook, you will:\n",
    "\n",
    "- Create a mood classifer using the TF Keras Sequential API\n",
    "- Build a ConvNet to identify sign language digits using the TF Keras Functional API\n",
    "\n",
    "**After this assignment you will be able to:**\n",
    "\n",
    "- Build and train a ConvNet in TensorFlow for a __binary__ classification problem\n",
    "- Build and train a ConvNet in TensorFlow for a __multiclass__ classification problem\n",
    "- Explain different use cases for the Sequential and Functional APIs\n",
    "\n",
    "To complete this assignment, you should already be familiar with TensorFlow. If you are not, please refer back to the **TensorFlow Tutorial** of the third week of Course 2 (\"**Improving deep neural networks**\").\n",
    "\n",
    "## Important Note on Submission to the AutoGrader\n",
    "\n",
    "Before submitting your assignment to the AutoGrader, please make sure you are not doing the following:\n",
    "\n",
    "1. You have not added any _extra_ `print` statement(s) in the assignment.\n",
    "2. You have not added any _extra_ code cell(s) in the assignment.\n",
    "3. You have not changed any of the function parameters.\n",
    "4. You are not using any global variables inside your graded exercises. Unless specifically instructed to do so, please refrain from it and use the local variables instead.\n",
    "5. You are not changing the assignment code where it is not required, like creating _extra_ variables.\n",
    "\n",
    "If you do any of the following, you will get something like, `Grader Error: Grader feedback not found` (or similarly unexpected) error upon submitting your assignment. Before asking for help/debugging the errors in your assignment, check for these first. If this is the case, and you don't remember the changes you have made, you can get a fresh copy of the assignment by following these [instructions](https://www.coursera.org/learn/convolutional-neural-networks/supplement/DS4yP/h-ow-to-refresh-your-workspace)."
   ]
  },
  {
   "cell_type": "markdown",
   "metadata": {},
   "source": [
    "## Table of Contents\n",
    "\n",
    "- [1 - Packages](#1)\n",
    "    - [1.1 - Load the Data and Split the Data into Train/Test Sets](#1-1)\n",
    "- [2 - Layers in TF Keras](#2)\n",
    "- [3 - The Sequential API](#3)\n",
    "    - [3.1 - Create the Sequential Model](#3-1)\n",
    "        - [Exercise 1 - happyModel](#ex-1)\n",
    "    - [3.2 - Train and Evaluate the Model](#3-2)\n",
    "- [4 - The Functional API](#4)\n",
    "    - [4.1 - Load the SIGNS Dataset](#4-1)\n",
    "    - [4.2 - Split the Data into Train/Test Sets](#4-2)\n",
    "    - [4.3 - Forward Propagation](#4-3)\n",
    "        - [Exercise 2 - convolutional_model](#ex-2)\n",
    "    - [4.4 - Train the Model](#4-4)\n",
    "- [5 - History Object](#5)\n",
    "- [6 - Bibliography](#6)"
   ]
  },
  {
   "cell_type": "markdown",
   "metadata": {},
   "source": [
    "<a name='1'></a>\n",
    "## 1 - Packages\n",
    "\n",
    "As usual, begin by loading in the packages."
   ]
  },
  {
   "cell_type": "code",
   "execution_count": 2,
   "metadata": {
    "deletable": false,
    "editable": false
   },
   "outputs": [],
   "source": [
    "### v1.1"
   ]
  },
  {
   "cell_type": "code",
   "execution_count": 1,
   "metadata": {},
   "outputs": [],
   "source": [
    "import math\n",
    "import numpy as np\n",
    "import h5py\n",
    "import matplotlib.pyplot as plt\n",
    "from matplotlib.pyplot import imread\n",
    "import scipy\n",
    "from PIL import Image\n",
    "import pandas as pd\n",
    "import tensorflow as tf\n",
    "import tensorflow.keras.layers as tfl\n",
    "from tensorflow.python.framework import ops\n",
    "from cnn_utils import *\n",
    "from test_utils import summary, comparator\n",
    "\n",
    "%matplotlib inline\n",
    "np.random.seed(1)"
   ]
  },
  {
   "cell_type": "markdown",
   "metadata": {},
   "source": [
    "<a name='1-1'></a>\n",
    "### 1.1 - Load the Data and Split the Data into Train/Test Sets\n",
    "\n",
    "You'll be using the Happy House dataset for this part of the assignment, which contains images of peoples' faces. Your task will be to build a ConvNet that determines whether the people in the images are smiling or not -- because they only get to enter the house if they're smiling!  "
   ]
  },
  {
   "cell_type": "code",
   "execution_count": 2,
   "metadata": {},
   "outputs": [
    {
     "name": "stdout",
     "output_type": "stream",
     "text": [
      "number of training examples = 600\n",
      "number of test examples = 150\n",
      "X_train shape: (600, 64, 64, 3)\n",
      "Y_train shape: (600, 1)\n",
      "X_test shape: (150, 64, 64, 3)\n",
      "Y_test shape: (150, 1)\n"
     ]
    }
   ],
   "source": [
    "X_train_orig, Y_train_orig, X_test_orig, Y_test_orig, classes = load_happy_dataset()\n",
    "\n",
    "# Normalize image vectors\n",
    "X_train = X_train_orig/255.\n",
    "X_test = X_test_orig/255.\n",
    "\n",
    "# Reshape\n",
    "Y_train = Y_train_orig.T\n",
    "Y_test = Y_test_orig.T\n",
    "\n",
    "print (\"number of training examples = \" + str(X_train.shape[0]))\n",
    "print (\"number of test examples = \" + str(X_test.shape[0]))\n",
    "print (\"X_train shape: \" + str(X_train.shape))\n",
    "print (\"Y_train shape: \" + str(Y_train.shape))\n",
    "print (\"X_test shape: \" + str(X_test.shape))\n",
    "print (\"Y_test shape: \" + str(Y_test.shape))"
   ]
  },
  {
   "cell_type": "markdown",
   "metadata": {},
   "source": [
    "You can display the images contained in the dataset. Images are **64x64** pixels in RGB format (3 channels)."
   ]
  },
  {
   "cell_type": "code",
   "execution_count": 5,
   "metadata": {},
   "outputs": [
    {
     "data": {
      "image/png": "[encoded data removed]",
      "text/plain": [
       "<Figure size 640x480 with 1 Axes>"
      ]
     },
     "metadata": {},
     "output_type": "display_data"
    }
   ],
   "source": [
    "index = 124\n",
    "plt.imshow(X_train_orig[index]) #display sample training image\n",
    "plt.show()"
   ]
  },
  {
   "cell_type": "markdown",
   "metadata": {},
   "source": [
    "<a name='2'></a>\n",
    "## 2 - Layers in TF Keras \n",
    "\n",
    "In the previous assignment, you created layers manually in numpy. In TF Keras, you don't have to write code directly to create layers. Rather, TF Keras has pre-defined layers you can use. \n",
    "\n",
    "When you create a layer in TF Keras, you are creating a function that takes some input and transforms it into an output you can reuse later. Nice and easy! "
   ]
  },
  {
   "cell_type": "markdown",
   "metadata": {},
   "source": [
    "<a name='3'></a>\n",
    "## 3 - The Sequential API\n",
    "\n",
    "In the previous assignment, you built helper functions using `numpy` to understand the mechanics behind convolutional neural networks. Most practical applications of deep learning today are built using programming frameworks, which have many built-in functions you can simply call. Keras is a high-level abstraction built on top of TensorFlow, which allows for even more simplified and optimized model creation and training. \n",
    "\n",
    "For the first part of this assignment, you'll create a model using TF Keras' Sequential API, which allows you to build layer by layer, and is ideal for building models where each layer has **exactly one** input tensor and **one** output tensor. \n",
    "\n",
    "As you'll see, using the Sequential API is simple and straightforward, but is only appropriate for simpler, more straightforward tasks. Later in this notebook you'll spend some time building with a more flexible, powerful alternative: the Functional API. \n",
    " "
   ]
  },
  {
   "cell_type": "markdown",
   "metadata": {},
   "source": [
    "<a name='3-1'></a>\n",
    "### 3.1 - Create the Sequential Model\n",
    "\n",
    "As mentioned earlier, the TensorFlow Keras Sequential API can be used to build simple models with layer operations that proceed in a sequential order. \n",
    "\n",
    "You can also add layers incrementally to a Sequential model with the `.add()` method, or remove them using the `.pop()` method, much like you would in a regular Python list.\n",
    "\n",
    "Actually, you can think of a Sequential model as behaving like a list of layers. Like Python lists, Sequential layers are ordered, and the order in which they are specified matters.  If your model is non-linear or contains layers with multiple inputs or outputs, a Sequential model wouldn't be the right choice!\n",
    "\n",
    "For any layer construction in Keras, you'll need to specify the input shape in advance. This is because in Keras, the shape of the weights is based on the shape of the inputs. The weights are only created when the model first sees some input data. Sequential models can be created by passing a list of layers to the Sequential constructor, like you will do in the next assignment.\n",
    "\n",
    "<a name='ex-1'></a>\n",
    "### Exercise 1 - happyModel\n",
    "\n",
    "Implement the `happyModel` function below to build the following model: `ZEROPAD2D -> CONV2D -> BATCHNORM -> RELU -> MAXPOOL -> FLATTEN -> DENSE`. Take help from [tf.keras.layers](https://www.tensorflow.org/api_docs/python/tf/keras/layers) \n",
    "\n",
    "Also, plug in the following parameters for all the steps:\n",
    "\n",
    " - [ZeroPadding2D](https://www.tensorflow.org/api_docs/python/tf/keras/layers/ZeroPadding2D): padding 3, input shape 64 x 64 x 3\n",
    " - [Conv2D](https://www.tensorflow.org/api_docs/python/tf/keras/layers/Conv2D): Use 32 7x7 filters, stride 1\n",
    " - [BatchNormalization](https://www.tensorflow.org/api_docs/python/tf/keras/layers/BatchNormalization): for axis 3\n",
    " - [ReLU](https://www.tensorflow.org/api_docs/python/tf/keras/layers/ReLU)\n",
    " - [MaxPool2D](https://www.tensorflow.org/api_docs/python/tf/keras/layers/MaxPool2D): Using default parameters\n",
    " - [Flatten](https://www.tensorflow.org/api_docs/python/tf/keras/layers/Flatten) the previous output.\n",
    " - Fully-connected ([Dense](https://www.tensorflow.org/api_docs/python/tf/keras/layers/Dense)) layer: Apply a fully connected layer with 1 neuron and a sigmoid activation. \n",
    " \n",
    " \n",
    " **Hint:**\n",
    " \n",
    " Use **tfl** as shorthand for **tensorflow.keras.layers**"
   ]
  },
  {
   "cell_type": "code",
   "execution_count": 15,
   "metadata": {
    "deletable": false,
    "nbgrader": {
     "cell_type": "code",
     "checksum": "95d28b191f257bdd5b70c7b8952559d5",
     "grade": false,
     "grade_id": "cell-0e56d3fc28b69aec",
     "locked": false,
     "schema_version": 3,
     "solution": true,
     "task": false
    }
   },
   "outputs": [],
   "source": [
    "# GRADED FUNCTION: happyModel\n",
    "\n",
    "def happyModel():\n",
    "    \"\"\"\n",
    "    Implements the forward propagation for the binary classification model:\n",
    "    ZEROPAD2D -> CONV2D -> BATCHNORM -> RELU -> MAXPOOL -> FLATTEN -> DENSE\n",
    "    \n",
    "    Note that for simplicity and grading purposes, you'll hard-code all the values\n",
    "    such as the stride and kernel (filter) sizes. \n",
    "    Normally, functions should take these values as function parameters.\n",
    "    \n",
    "    Arguments:\n",
    "    None\n",
    "\n",
    "    Returns:\n",
    "    model -- TF Keras model (object containing the information for the entire training process) \n",
    "    \"\"\"\n",
    "    model = tf.keras.Sequential([\n",
    "            ## ZeroPadding2D with padding 3, input shape of 64 x 64 x 3\n",
    "            tf.keras.layers.ZeroPadding2D(padding=(3,3),input_shape=(64, 64, 3), data_format=\"channels_last\", name='zp0'),\n",
    "            \n",
    "            ## Conv2D with 32 7x7 filters and stride of 1\n",
    "            tf.keras.layers.Conv2D(32, (7, 7), strides = (1, 1), name = 'conv0'),\n",
    "            ## BatchNormalization for axis 3\n",
    "            tf.keras.layers.BatchNormalization(axis = 3, name = 'bn0'),\n",
    "            ## ReLU\n",
    "            tf.keras.layers.ReLU(max_value=None, negative_slope=0.0, threshold=0.0),\n",
    "            ## Max Pooling 2D with default parameters\n",
    "            tf.keras.layers.MaxPooling2D((2, 2), name='max_pool0'),\n",
    "            ## Flatten layer\n",
    "            tf.keras.layers.Flatten(),\n",
    "            ## Dense layer with 1 unit for output & 'sigmoid' activation\n",
    "            tf.keras.layers.Dense(1, activation='sigmoid', name='fc'),\n",
    "            # YOUR CODE STARTS HERE\n",
    "            \n",
    "            \n",
    "            # YOUR CODE ENDS HERE\n",
    "        ])\n",
    "    \n",
    "    return model"
   ]
  },
  {
   "cell_type": "code",
   "execution_count": 16,
   "metadata": {
    "deletable": false,
    "editable": false,
    "nbgrader": {
     "cell_type": "code",
     "checksum": "8d3575c950e2e78149be2d05d671c80d",
     "grade": true,
     "grade_id": "cell-e3e1046e5c33d775",
     "locked": true,
     "points": 10,
     "schema_version": 3,
     "solution": false,
     "task": false
    }
   },
   "outputs": [
    {
     "name": "stdout",
     "output_type": "stream",
     "text": [
      "['ZeroPadding2D', (None, 70, 70, 3), 0, ((3, 3), (3, 3))]\n",
      "['Conv2D', (None, 64, 64, 32), 4736, 'valid', 'linear', 'GlorotUniform']\n",
      "['BatchNormalization', (None, 64, 64, 32), 128]\n",
      "['ReLU', (None, 64, 64, 32), 0]\n",
      "['MaxPooling2D', (None, 32, 32, 32), 0, (2, 2), (2, 2), 'valid']\n",
      "['Flatten', (None, 32768), 0]\n",
      "['Dense', (None, 1), 32769, 'sigmoid']\n",
      "\u001b[32mAll tests passed!\u001b[0m\n"
     ]
    }
   ],
   "source": [
    "happy_model = happyModel()\n",
    "# Print a summary for each layer\n",
    "for layer in summary(happy_model):\n",
    "    print(layer)\n",
    "    \n",
    "output = [['ZeroPadding2D', (None, 70, 70, 3), 0, ((3, 3), (3, 3))],\n",
    "            ['Conv2D', (None, 64, 64, 32), 4736, 'valid', 'linear', 'GlorotUniform'],\n",
    "            ['BatchNormalization', (None, 64, 64, 32), 128],\n",
    "            ['ReLU', (None, 64, 64, 32), 0],\n",
    "            ['MaxPooling2D', (None, 32, 32, 32), 0, (2, 2), (2, 2), 'valid'],\n",
    "            ['Flatten', (None, 32768), 0],\n",
    "            ['Dense', (None, 1), 32769, 'sigmoid']]\n",
    "    \n",
    "comparator(summary(happy_model), output)"
   ]
  },
  {
   "cell_type": "markdown",
   "metadata": {},
   "source": [
    "#### Expected Output:\n",
    "\n",
    "```\n",
    "['ZeroPadding2D', (None, 70, 70, 3), 0, ((3, 3), (3, 3))]\n",
    "['Conv2D', (None, 64, 64, 32), 4736, 'valid', 'linear', 'GlorotUniform']\n",
    "['BatchNormalization', (None, 64, 64, 32), 128]\n",
    "['ReLU', (None, 64, 64, 32), 0]\n",
    "['MaxPooling2D', (None, 32, 32, 32), 0, (2, 2), (2, 2), 'valid']\n",
    "['Flatten', (None, 32768), 0]\n",
    "['Dense', (None, 1), 32769, 'sigmoid']\n",
    "All tests passed!\n",
    "```"
   ]
  },
  {
   "cell_type": "markdown",
   "metadata": {},
   "source": [
    "Now that your model is created, you can compile it for training with an optimizer and loss of your choice. When the string `accuracy` is specified as a metric, the type of accuracy used will be automatically converted based on the loss function used. This is one of the many optimizations built into TensorFlow that make your life easier! If you'd like to read more on how the compiler operates, check the docs [here](https://www.tensorflow.org/api_docs/python/tf/keras/Model#compile)."
   ]
  },
  {
   "cell_type": "code",
   "execution_count": 17,
   "metadata": {},
   "outputs": [],
   "source": [
    "happy_model.compile(optimizer='adam',\n",
    "                   loss='binary_crossentropy',\n",
    "                   metrics=['accuracy'])"
   ]
  },
  {
   "cell_type": "markdown",
   "metadata": {},
   "source": [
    "It's time to check your model's parameters with the `.summary()` method. This will display the types of layers you have, the shape of the outputs, and how many parameters are in each layer. "
   ]
  },
  {
   "cell_type": "code",
   "execution_count": 18,
   "metadata": {},
   "outputs": [
    {
     "name": "stdout",
     "output_type": "stream",
     "text": [
      "Model: \"sequential_2\"\n",
      "_________________________________________________________________\n",
      " Layer (type)                Output Shape              Param #   \n",
      "=================================================================\n",
      " zp0 (ZeroPadding2D)         (None, 70, 70, 3)         0         \n",
      "                                                                 \n",
      " conv0 (Conv2D)              (None, 64, 64, 32)        4736      \n",
      "                                                                 \n",
      " bn0 (BatchNormalization)    (None, 64, 64, 32)        128       \n",
      "                                                                 \n",
      " re_lu_2 (ReLU)              (None, 64, 64, 32)        0         \n",
      "                                                                 \n",
      " max_pool0 (MaxPooling2D)    (None, 32, 32, 32)        0         \n",
      "                                                                 \n",
      " flatten_2 (Flatten)         (None, 32768)             0         \n",
      "                                                                 \n",
      " fc (Dense)                  (None, 1)                 32769     \n",
      "                                                                 \n",
      "=================================================================\n",
      "Total params: 37,633\n",
      "Trainable params: 37,569\n",
      "Non-trainable params: 64\n",
      "_________________________________________________________________\n"
     ]
    }
   ],
   "source": [
    "happy_model.summary()"
   ]
  },
  {
   "cell_type": "markdown",
   "metadata": {},
   "source": [
    "<a name='3-2'></a>\n",
    "### 3.2 - Train and Evaluate the Model\n",
    "\n",
    "After creating the model, compiling it with your choice of optimizer and loss function, and doing a sanity check on its contents, you are now ready to build! \n",
    "\n",
    "Simply call `.fit()` to train. That's it! No need for mini-batching, saving, or complex backpropagation computations. That's all been done for you, as you're using a TensorFlow dataset with the batches specified already. You do have the option to specify epoch number or minibatch size if you like (for example, in the case of an un-batched dataset)."
   ]
  },
  {
   "cell_type": "code",
   "execution_count": 19,
   "metadata": {},
   "outputs": [
    {
     "name": "stdout",
     "output_type": "stream",
     "text": [
      "Epoch 1/10\n"
     ]
    },
    {
     "name": "stdout",
     "output_type": "stream",
     "text": [
      "38/38 [==============================] - 1s 28ms/step - loss: 1.7840 - accuracy: 0.6400\n",
      "Epoch 2/10\n",
      "38/38 [==============================] - 1s 30ms/step - loss: 0.2570 - accuracy: 0.9100\n",
      "Epoch 3/10\n",
      "38/38 [==============================] - 1s 30ms/step - loss: 0.1872 - accuracy: 0.9283\n",
      "Epoch 4/10\n",
      "38/38 [==============================] - 1s 28ms/step - loss: 0.1412 - accuracy: 0.9450\n",
      "Epoch 5/10\n",
      "38/38 [==============================] - 1s 29ms/step - loss: 0.1139 - accuracy: 0.9567\n",
      "Epoch 6/10\n",
      "38/38 [==============================] - 1s 28ms/step - loss: 0.0846 - accuracy: 0.9783\n",
      "Epoch 7/10\n",
      "38/38 [==============================] - 1s 28ms/step - loss: 0.0921 - accuracy: 0.9650\n",
      "Epoch 8/10\n",
      "38/38 [==============================] - 1s 29ms/step - loss: 0.1019 - accuracy: 0.9550\n",
      "Epoch 9/10\n",
      "38/38 [==============================] - 1s 29ms/step - loss: 0.0728 - accuracy: 0.9833\n",
      "Epoch 10/10\n",
      "38/38 [==============================] - 1s 28ms/step - loss: 0.0535 - accuracy: 0.9817\n"
     ]
    },
    {
     "data": {
      "text/plain": [
       "<keras.callbacks.History at 0x23b25870940>"
      ]
     },
     "execution_count": 19,
     "metadata": {},
     "output_type": "execute_result"
    }
   ],
   "source": [
    "happy_model.fit(X_train, Y_train, epochs=10, batch_size=16)"
   ]
  },
  {
   "cell_type": "markdown",
   "metadata": {},
   "source": [
    "After that completes, just use `.evaluate()` to evaluate against your test set. This function will print the value of the loss function and the performance metrics specified during the compilation of the model. In this case, the `binary_crossentropy` and the `accuracy` respectively."
   ]
  },
  {
   "cell_type": "code",
   "execution_count": 20,
   "metadata": {},
   "outputs": [
    {
     "name": "stdout",
     "output_type": "stream",
     "text": [
      "5/5 [==============================] - 0s 16ms/step - loss: 0.2224 - accuracy: 0.9000\n"
     ]
    },
    {
     "data": {
      "text/plain": [
       "[0.22239476442337036, 0.8999999761581421]"
      ]
     },
     "execution_count": 20,
     "metadata": {},
     "output_type": "execute_result"
    }
   ],
   "source": [
    "happy_model.evaluate(X_test, Y_test)"
   ]
  },
  {
   "cell_type": "markdown",
   "metadata": {},
   "source": [
    "Easy, right? But what if you need to build a model with shared layers, branches, or multiple inputs and outputs? This is where Sequential, with its beautifully simple yet limited functionality, won't be able to help you. \n",
    "\n",
    "Next up: Enter the Functional API, your slightly more complex, highly flexible friend.  "
   ]
  },
  {
   "cell_type": "markdown",
   "metadata": {},
   "source": [
    "<a name='4'></a>\n",
    "## 4 - The Functional API"
   ]
  },
  {
   "cell_type": "markdown",
   "metadata": {},
   "source": [
    "Welcome to the second half of the assignment, where you'll use Keras' flexible [Functional API](https://www.tensorflow.org/guide/keras/functional) to build a ConvNet that can differentiate between 6 sign language digits. \n",
    "\n",
    "The Functional API can handle models with non-linear topology, shared layers, as well as layers with multiple inputs or outputs. Imagine that, where the Sequential API requires the model to move in a linear fashion through its layers, the Functional API allows much more flexibility. Where Sequential is a straight line, a Functional model is a graph, where the nodes of the layers can connect in many more ways than one. \n",
    "\n",
    "In the visual example below, the one possible direction of the movement Sequential model is shown in contrast to a skip connection, which is just one of the many ways a Functional model can be constructed. A skip connection, as you might have guessed, skips some layer in the network and feeds the output to a later layer in the network. Don't worry, you'll be spending more time with skip connections very soon! "
   ]
  },
  {
   "cell_type": "markdown",
   "metadata": {},
   "source": [
    "<img src=\"images/seq_vs_func.png\" style=\"width:350px;height:200px;\">"
   ]
  },
  {
   "cell_type": "markdown",
   "metadata": {},
   "source": [
    "<a name='4-1'></a>\n",
    "### 4.1 - Load the SIGNS Dataset\n",
    "\n",
    "As a reminder, the SIGNS dataset is a collection of 6 signs representing numbers from 0 to 5."
   ]
  },
  {
   "cell_type": "code",
   "execution_count": 21,
   "metadata": {},
   "outputs": [],
   "source": [
    "# Loading the data (signs)\n",
    "X_train_orig, Y_train_orig, X_test_orig, Y_test_orig, classes = load_signs_dataset()"
   ]
  },
  {
   "cell_type": "markdown",
   "metadata": {},
   "source": [
    "<img src=\"images/SIGNS.png\" style=\"width:800px;height:300px;\">\n",
    "\n",
    "The next cell will show you an example of a labelled image in the dataset. Feel free to change the value of `index` below and re-run to see different examples. "
   ]
  },
  {
   "cell_type": "code",
   "execution_count": 25,
   "metadata": {},
   "outputs": [
    {
     "name": "stdout",
     "output_type": "stream",
     "text": [
      "y = 4\n"
     ]
    },
    {
     "data": {
      "image/png": "[encoded data removed]",
      "text/plain": [
       "<Figure size 640x480 with 1 Axes>"
      ]
     },
     "metadata": {},
     "output_type": "display_data"
    }
   ],
   "source": [
    "# Example of an image from the dataset\n",
    "index = 9\n",
    "plt.imshow(X_train_orig[index])\n",
    "print (\"y = \" + str(np.squeeze(Y_train_orig[:, index])))"
   ]
  },
  {
   "cell_type": "markdown",
   "metadata": {},
   "source": [
    "<a name='4-2'></a>\n",
    "### 4.2 - Split the Data into Train/Test Sets\n",
    "\n",
    "In Course 2, you built a fully-connected network for this dataset. But since this is an image dataset, it is more natural to apply a ConvNet to it.\n",
    "\n",
    "To get started, let's examine the shapes of your data. "
   ]
  },
  {
   "cell_type": "code",
   "execution_count": 26,
   "metadata": {},
   "outputs": [
    {
     "name": "stdout",
     "output_type": "stream",
     "text": [
      "number of training examples = 1080\n",
      "number of test examples = 120\n",
      "X_train shape: (1080, 64, 64, 3)\n",
      "Y_train shape: (1080, 6)\n",
      "X_test shape: (120, 64, 64, 3)\n",
      "Y_test shape: (120, 6)\n"
     ]
    }
   ],
   "source": [
    "X_train = X_train_orig/255.\n",
    "X_test = X_test_orig/255.\n",
    "Y_train = convert_to_one_hot(Y_train_orig, 6).T\n",
    "Y_test = convert_to_one_hot(Y_test_orig, 6).T\n",
    "print (\"number of training examples = \" + str(X_train.shape[0]))\n",
    "print (\"number of test examples = \" + str(X_test.shape[0]))\n",
    "print (\"X_train shape: \" + str(X_train.shape))\n",
    "print (\"Y_train shape: \" + str(Y_train.shape))\n",
    "print (\"X_test shape: \" + str(X_test.shape))\n",
    "print (\"Y_test shape: \" + str(Y_test.shape))"
   ]
  },
  {
   "cell_type": "markdown",
   "metadata": {},
   "source": [
    "<a name='4-3'></a>\n",
    "### 4.3 - Forward Propagation\n",
    "\n",
    "In TensorFlow, there are built-in functions that implement the convolution steps for you. By now, you should be familiar with how TensorFlow builds computational graphs. In the [Functional API](https://www.tensorflow.org/guide/keras/functional), you create a graph of layers. This is what allows such great flexibility.\n",
    "\n",
    "However, the following model could also be defined using the Sequential API since the information flow is on a single line. But don't deviate. What we want you to learn is to use the functional API.\n",
    "\n",
    "Begin building your graph of layers by creating an input node that functions as a callable object:\n",
    "\n",
    "- **input_img = tf.keras.Input(shape=input_shape):** \n",
    "\n",
    "Then, create a new node in the graph of layers by calling a layer on the `input_img` object: \n",
    "\n",
    "- **tf.keras.layers.Conv2D(filters= ... , kernel_size= ... , padding='same')(input_img):** Read the full documentation on [Conv2D](https://www.tensorflow.org/api_docs/python/tf/keras/layers/Conv2D).\n",
    "\n",
    "- **tf.keras.layers.MaxPool2D(pool_size=(f, f), strides=(s, s), padding='same'):** `MaxPool2D()` downsamples your input using a window of size (f, f) and strides of size (s, s) to carry out max pooling over each window.  For max pooling, you usually operate on a single example at a time and a single channel at a time. Read the full documentation on [MaxPool2D](https://www.tensorflow.org/api_docs/python/tf/keras/layers/MaxPool2D).\n",
    "\n",
    "- **tf.keras.layers.ReLU():** computes the elementwise ReLU of Z (which can be any shape). You can read the full documentation on [ReLU](https://www.tensorflow.org/api_docs/python/tf/keras/layers/ReLU).\n",
    "\n",
    "- **tf.keras.layers.Flatten()**: given a tensor \"P\", this function takes each training (or test) example in the batch and flattens it into a 1D vector.  \n",
    "\n",
    "    * If a tensor P has the shape (batch_size,h,w,c), it returns a flattened tensor with shape (batch_size, k), where $k=h \\times w \\times c$.  \"k\" equals the product of all the dimension sizes other than the first dimension.\n",
    "    \n",
    "    * For example, given a tensor with dimensions [100, 2, 3, 4], it flattens the tensor to be of shape [100, 24], where 24 = 2 * 3 * 4.  You can read the full documentation on [Flatten](https://www.tensorflow.org/api_docs/python/tf/keras/layers/Flatten).\n",
    "\n",
    "- **tf.keras.layers.Dense(units= ... , activation='softmax')(F):** given the flattened input F, it returns the output computed using a fully connected layer. You can read the full documentation on [Dense](https://www.tensorflow.org/api_docs/python/tf/keras/layers/Dense).\n",
    "\n",
    "In the last function above (`tf.keras.layers.Dense()`), the fully connected layer automatically initializes weights in the graph and keeps on training them as you train the model. Hence, you did not need to initialize those weights when initializing the parameters.\n",
    "\n",
    "Lastly, before creating the model, you'll need to define the output using the last of the function's compositions (in this example, a Dense layer): \n",
    "\n",
    "- **outputs = tf.keras.layers.Dense(units=6, activation='softmax')(F)**\n",
    "\n",
    "\n",
    "#### Window, kernel, filter, pool\n",
    "\n",
    "The words \"kernel\" and \"filter\" are used to refer to the same thing. The word \"filter\" accounts for the amount of \"kernels\" that will be used in a single convolution layer. \"Pool\" is the name of the operation that takes the max or average value of the kernels. \n",
    "\n",
    "This is why the parameter `pool_size` refers to `kernel_size`, and you use `(f,f)` to refer to the filter size. \n",
    "\n",
    "Pool size and kernel size refer to the same thing in different objects - They refer to the shape of the window where the operation takes place. "
   ]
  },
  {
   "cell_type": "markdown",
   "metadata": {},
   "source": [
    "<a name='ex-2'></a>\n",
    "### Exercise 2 - convolutional_model\n",
    "\n",
    "Implement the `convolutional_model` function below to build the following model: `CONV2D -> RELU -> MAXPOOL -> CONV2D -> RELU -> MAXPOOL -> FLATTEN -> DENSE`. Use the functions above! \n",
    "\n",
    "Also, plug in the following parameters for all the steps:\n",
    "\n",
    " - [Conv2D](https://www.tensorflow.org/api_docs/python/tf/keras/layers/Conv2D): Use 8 4 by 4 filters, stride 1, padding is \"SAME\"\n",
    " - [ReLU](https://www.tensorflow.org/api_docs/python/tf/keras/layers/ReLU)\n",
    " - [MaxPool2D](https://www.tensorflow.org/api_docs/python/tf/keras/layers/MaxPool2D): Use an 8 by 8 filter size and an 8 by 8 stride, padding is \"SAME\"\n",
    " - **Conv2D**: Use 16 2 by 2 filters, stride 1, padding is \"SAME\"\n",
    " - **ReLU**\n",
    " - **MaxPool2D**: Use a 4 by 4 filter size and a 4 by 4 stride, padding is \"SAME\"\n",
    " - [Flatten](https://www.tensorflow.org/api_docs/python/tf/keras/layers/Flatten) the previous output.\n",
    " - Fully-connected ([Dense](https://www.tensorflow.org/api_docs/python/tf/keras/layers/Dense)) layer: Apply a fully connected layer with 6 neurons and a softmax activation. "
   ]
  },
  {
   "cell_type": "code",
   "execution_count": 27,
   "metadata": {
    "deletable": false,
    "nbgrader": {
     "cell_type": "code",
     "checksum": "f58643806aa8380c96225fc8b4c5e7aa",
     "grade": false,
     "grade_id": "cell-dac51744a9e03f51",
     "locked": false,
     "schema_version": 3,
     "solution": true,
     "task": false
    }
   },
   "outputs": [],
   "source": [
    "# GRADED FUNCTION: convolutional_model\n",
    "\n",
    "def convolutional_model(input_shape):\n",
    "    \"\"\"\n",
    "    Implements the forward propagation for the model:\n",
    "    CONV2D -> RELU -> MAXPOOL -> CONV2D -> RELU -> MAXPOOL -> FLATTEN -> DENSE\n",
    "    \n",
    "    Note that for simplicity and grading purposes, you'll hard-code some values\n",
    "    such as the stride and kernel (filter) sizes. \n",
    "    Normally, functions should take these values as function parameters.\n",
    "    \n",
    "    Arguments:\n",
    "    input_img -- input dataset, of shape (input_shape)\n",
    "\n",
    "    Returns:\n",
    "    model -- TF Keras model (object containing the information for the entire training process) \n",
    "    \"\"\"\n",
    "\n",
    "    input_img = tf.keras.Input(shape=input_shape)\n",
    "    ## CONV2D: 8 filters 4x4, stride of 1, padding 'SAME'\n",
    "    # Z1 = None\n",
    "    ## RELU\n",
    "    # A1 = None\n",
    "    ## MAXPOOL: window 8x8, stride 8, padding 'SAME'\n",
    "    # P1 = None\n",
    "    ## CONV2D: 16 filters 2x2, stride 1, padding 'SAME'\n",
    "    # Z2 = None\n",
    "    ## RELU\n",
    "    # A2 = None\n",
    "    ## MAXPOOL: window 4x4, stride 4, padding 'SAME'\n",
    "    # P2 = None\n",
    "    ## FLATTEN\n",
    "    # F = None\n",
    "    ## Dense layer\n",
    "    ## 6 neurons in output layer. Hint: one of the arguments should be \"activation='softmax'\" \n",
    "    # outputs = None\n",
    "    # YOUR CODE STARTS HERE\n",
    "    Z1 = tf.keras.layers.Conv2D(filters = 8 , kernel_size= (4,4), strides = (1,1), padding='same')(input_img)\n",
    "    A1 = tf.keras.layers.ReLU()(Z1)\n",
    "    P1 = tf.keras.layers.MaxPool2D(pool_size=(8,8), strides=(8, 8), padding='same')(A1)\n",
    "    Z2 = tf.keras.layers.Conv2D(filters = 16 , kernel_size= (2,2), strides = (1,1), padding='same')(P1)\n",
    "    A2 = tf.keras.layers.ReLU()(Z2)\n",
    "    P2 = tf.keras.layers.MaxPool2D(pool_size=(4,4), strides=(4, 4), padding='same')(A2)\n",
    "    F = tf.keras.layers.Flatten()(P2)\n",
    "    outputs = tf.keras.layers.Dense(units=6, activation='softmax')(F)\n",
    "    \n",
    "    # YOUR CODE ENDS HERE\n",
    "    model = tf.keras.Model(inputs=input_img, outputs=outputs)\n",
    "    return model"
   ]
  },
  {
   "cell_type": "code",
   "execution_count": 28,
   "metadata": {
    "deletable": false,
    "editable": false,
    "nbgrader": {
     "cell_type": "code",
     "checksum": "483d626949930a0b0ef20997e7c6ba72",
     "grade": true,
     "grade_id": "cell-45d22e92042174c9",
     "locked": true,
     "points": 10,
     "schema_version": 3,
     "solution": false,
     "task": false
    }
   },
   "outputs": [
    {
     "name": "stdout",
     "output_type": "stream",
     "text": [
      "Model: \"model\"\n",
      "_________________________________________________________________\n",
      " Layer (type)                Output Shape              Param #   \n",
      "=================================================================\n",
      " input_1 (InputLayer)        [(None, 64, 64, 3)]       0         \n",
      "                                                                 \n",
      " conv2d (Conv2D)             (None, 64, 64, 8)         392       \n",
      "                                                                 \n",
      " re_lu_3 (ReLU)              (None, 64, 64, 8)         0         \n",
      "                                                                 \n",
      " max_pooling2d (MaxPooling2D  (None, 8, 8, 8)          0         \n",
      " )                                                               \n",
      "                                                                 \n",
      " conv2d_1 (Conv2D)           (None, 8, 8, 16)          528       \n",
      "                                                                 \n",
      " re_lu_4 (ReLU)              (None, 8, 8, 16)          0         \n",
      "                                                                 \n",
      " max_pooling2d_1 (MaxPooling  (None, 2, 2, 16)         0         \n",
      " 2D)                                                             \n",
      "                                                                 \n",
      " flatten_3 (Flatten)         (None, 64)                0         \n",
      "                                                                 \n",
      " dense (Dense)               (None, 6)                 390       \n",
      "                                                                 \n",
      "=================================================================\n",
      "Total params: 1,310\n",
      "Trainable params: 1,310\n",
      "Non-trainable params: 0\n",
      "_________________________________________________________________\n",
      "\u001b[32mAll tests passed!\u001b[0m\n"
     ]
    }
   ],
   "source": [
    "conv_model = convolutional_model((64, 64, 3))\n",
    "conv_model.compile(optimizer='adam',\n",
    "                  loss='categorical_crossentropy',\n",
    "                  metrics=['accuracy'])\n",
    "conv_model.summary()\n",
    "    \n",
    "output = [['InputLayer', [(None, 64, 64, 3)], 0],\n",
    "        ['Conv2D', (None, 64, 64, 8), 392, 'same', 'linear', 'GlorotUniform'],\n",
    "        ['ReLU', (None, 64, 64, 8), 0],\n",
    "        ['MaxPooling2D', (None, 8, 8, 8), 0, (8, 8), (8, 8), 'same'],\n",
    "        ['Conv2D', (None, 8, 8, 16), 528, 'same', 'linear', 'GlorotUniform'],\n",
    "        ['ReLU', (None, 8, 8, 16), 0],\n",
    "        ['MaxPooling2D', (None, 2, 2, 16), 0, (4, 4), (4, 4), 'same'],\n",
    "        ['Flatten', (None, 64), 0],\n",
    "        ['Dense', (None, 6), 390, 'softmax']]\n",
    "    \n",
    "comparator(summary(conv_model), output)"
   ]
  },
  {
   "cell_type": "markdown",
   "metadata": {},
   "source": [
    "Both the Sequential and Functional APIs return a TF Keras model object. The only difference is how inputs are handled inside the object model! "
   ]
  },
  {
   "cell_type": "markdown",
   "metadata": {},
   "source": [
    "<a name='4-4'></a>\n",
    "### 4.4 - Train the Model"
   ]
  },
  {
   "cell_type": "code",
   "execution_count": 29,
   "metadata": {},
   "outputs": [
    {
     "name": "stdout",
     "output_type": "stream",
     "text": [
      "Epoch 1/100\n"
     ]
    },
    {
     "name": "stdout",
     "output_type": "stream",
     "text": [
      "17/17 [==============================] - 1s 29ms/step - loss: 1.7962 - accuracy: 0.1843 - val_loss: 1.7891 - val_accuracy: 0.2083\n",
      "Epoch 2/100\n",
      "17/17 [==============================] - 0s 22ms/step - loss: 1.7859 - accuracy: 0.2093 - val_loss: 1.7829 - val_accuracy: 0.2167\n",
      "Epoch 3/100\n",
      "17/17 [==============================] - 0s 23ms/step - loss: 1.7806 - accuracy: 0.2454 - val_loss: 1.7780 - val_accuracy: 0.2417\n",
      "Epoch 4/100\n",
      "17/17 [==============================] - 0s 23ms/step - loss: 1.7745 - accuracy: 0.2926 - val_loss: 1.7714 - val_accuracy: 0.3250\n",
      "Epoch 5/100\n",
      "17/17 [==============================] - 0s 24ms/step - loss: 1.7654 - accuracy: 0.3361 - val_loss: 1.7632 - val_accuracy: 0.3250\n",
      "Epoch 6/100\n",
      "17/17 [==============================] - 1s 48ms/step - loss: 1.7524 - accuracy: 0.3333 - val_loss: 1.7520 - val_accuracy: 0.3250\n",
      "Epoch 7/100\n",
      "17/17 [==============================] - 1s 56ms/step - loss: 1.7351 - accuracy: 0.3519 - val_loss: 1.7358 - val_accuracy: 0.3250\n",
      "Epoch 8/100\n",
      "17/17 [==============================] - 1s 61ms/step - loss: 1.7118 - accuracy: 0.3583 - val_loss: 1.7125 - val_accuracy: 0.3750\n",
      "Epoch 9/100\n",
      "17/17 [==============================] - 1s 58ms/step - loss: 1.6804 - accuracy: 0.3722 - val_loss: 1.6831 - val_accuracy: 0.4000\n",
      "Epoch 10/100\n",
      "17/17 [==============================] - 1s 62ms/step - loss: 1.6436 - accuracy: 0.3963 - val_loss: 1.6471 - val_accuracy: 0.4250\n",
      "Epoch 11/100\n",
      "17/17 [==============================] - 1s 66ms/step - loss: 1.5990 - accuracy: 0.4454 - val_loss: 1.6011 - val_accuracy: 0.4667\n",
      "Epoch 12/100\n",
      "17/17 [==============================] - 1s 59ms/step - loss: 1.5495 - accuracy: 0.4565 - val_loss: 1.5534 - val_accuracy: 0.4833\n",
      "Epoch 13/100\n",
      "17/17 [==============================] - 1s 36ms/step - loss: 1.4987 - accuracy: 0.4843 - val_loss: 1.5017 - val_accuracy: 0.5167\n",
      "Epoch 14/100\n",
      "17/17 [==============================] - 0s 23ms/step - loss: 1.4451 - accuracy: 0.4972 - val_loss: 1.4509 - val_accuracy: 0.5333\n",
      "Epoch 15/100\n",
      "17/17 [==============================] - 0s 23ms/step - loss: 1.3961 - accuracy: 0.5139 - val_loss: 1.3998 - val_accuracy: 0.5333\n",
      "Epoch 16/100\n",
      "17/17 [==============================] - 0s 24ms/step - loss: 1.3470 - accuracy: 0.5296 - val_loss: 1.3523 - val_accuracy: 0.5333\n",
      "Epoch 17/100\n",
      "17/17 [==============================] - 0s 26ms/step - loss: 1.3019 - accuracy: 0.5333 - val_loss: 1.3037 - val_accuracy: 0.5500\n",
      "Epoch 18/100\n",
      "17/17 [==============================] - 0s 24ms/step - loss: 1.2568 - accuracy: 0.5639 - val_loss: 1.2597 - val_accuracy: 0.5583\n",
      "Epoch 19/100\n",
      "17/17 [==============================] - 0s 24ms/step - loss: 1.2192 - accuracy: 0.5741 - val_loss: 1.2211 - val_accuracy: 0.5583\n",
      "Epoch 20/100\n",
      "17/17 [==============================] - 0s 25ms/step - loss: 1.1830 - accuracy: 0.5815 - val_loss: 1.1834 - val_accuracy: 0.5667\n",
      "Epoch 21/100\n",
      "17/17 [==============================] - 0s 25ms/step - loss: 1.1512 - accuracy: 0.5898 - val_loss: 1.1513 - val_accuracy: 0.5917\n",
      "Epoch 22/100\n",
      "17/17 [==============================] - 0s 26ms/step - loss: 1.1204 - accuracy: 0.6037 - val_loss: 1.1179 - val_accuracy: 0.6000\n",
      "Epoch 23/100\n",
      "17/17 [==============================] - 0s 26ms/step - loss: 1.0918 - accuracy: 0.6157 - val_loss: 1.0899 - val_accuracy: 0.6083\n",
      "Epoch 24/100\n",
      "17/17 [==============================] - 0s 28ms/step - loss: 1.0645 - accuracy: 0.6296 - val_loss: 1.0622 - val_accuracy: 0.6250\n",
      "Epoch 25/100\n",
      "17/17 [==============================] - 0s 29ms/step - loss: 1.0396 - accuracy: 0.6435 - val_loss: 1.0369 - val_accuracy: 0.6333\n",
      "Epoch 26/100\n",
      "17/17 [==============================] - 0s 25ms/step - loss: 1.0157 - accuracy: 0.6546 - val_loss: 1.0137 - val_accuracy: 0.6250\n",
      "Epoch 27/100\n",
      "17/17 [==============================] - 0s 24ms/step - loss: 0.9935 - accuracy: 0.6639 - val_loss: 0.9910 - val_accuracy: 0.6417\n",
      "Epoch 28/100\n",
      "17/17 [==============================] - 0s 23ms/step - loss: 0.9723 - accuracy: 0.6694 - val_loss: 0.9705 - val_accuracy: 0.6500\n",
      "Epoch 29/100\n",
      "17/17 [==============================] - 0s 24ms/step - loss: 0.9511 - accuracy: 0.6759 - val_loss: 0.9520 - val_accuracy: 0.6583\n",
      "Epoch 30/100\n",
      "17/17 [==============================] - 0s 24ms/step - loss: 0.9314 - accuracy: 0.6898 - val_loss: 0.9338 - val_accuracy: 0.6583\n",
      "Epoch 31/100\n",
      "17/17 [==============================] - 0s 23ms/step - loss: 0.9125 - accuracy: 0.6981 - val_loss: 0.9163 - val_accuracy: 0.6583\n",
      "Epoch 32/100\n",
      "17/17 [==============================] - 0s 23ms/step - loss: 0.8938 - accuracy: 0.7056 - val_loss: 0.9025 - val_accuracy: 0.6583\n",
      "Epoch 33/100\n",
      "17/17 [==============================] - 0s 23ms/step - loss: 0.8753 - accuracy: 0.7111 - val_loss: 0.8871 - val_accuracy: 0.6750\n",
      "Epoch 34/100\n",
      "17/17 [==============================] - 0s 23ms/step - loss: 0.8584 - accuracy: 0.7204 - val_loss: 0.8719 - val_accuracy: 0.6917\n",
      "Epoch 35/100\n",
      "17/17 [==============================] - 0s 24ms/step - loss: 0.8426 - accuracy: 0.7241 - val_loss: 0.8599 - val_accuracy: 0.6917\n",
      "Epoch 36/100\n",
      "17/17 [==============================] - 0s 23ms/step - loss: 0.8268 - accuracy: 0.7333 - val_loss: 0.8457 - val_accuracy: 0.7083\n",
      "Epoch 37/100\n",
      "17/17 [==============================] - 0s 25ms/step - loss: 0.8124 - accuracy: 0.7380 - val_loss: 0.8329 - val_accuracy: 0.6917\n",
      "Epoch 38/100\n",
      "17/17 [==============================] - 0s 24ms/step - loss: 0.7981 - accuracy: 0.7398 - val_loss: 0.8209 - val_accuracy: 0.7167\n",
      "Epoch 39/100\n",
      "17/17 [==============================] - 0s 24ms/step - loss: 0.7847 - accuracy: 0.7435 - val_loss: 0.8096 - val_accuracy: 0.7083\n",
      "Epoch 40/100\n",
      "17/17 [==============================] - 0s 23ms/step - loss: 0.7718 - accuracy: 0.7481 - val_loss: 0.7972 - val_accuracy: 0.7250\n",
      "Epoch 41/100\n",
      "17/17 [==============================] - 0s 23ms/step - loss: 0.7592 - accuracy: 0.7500 - val_loss: 0.7860 - val_accuracy: 0.7250\n",
      "Epoch 42/100\n",
      "17/17 [==============================] - 0s 24ms/step - loss: 0.7474 - accuracy: 0.7528 - val_loss: 0.7751 - val_accuracy: 0.7250\n",
      "Epoch 43/100\n",
      "17/17 [==============================] - 0s 23ms/step - loss: 0.7353 - accuracy: 0.7556 - val_loss: 0.7635 - val_accuracy: 0.7250\n",
      "Epoch 44/100\n",
      "17/17 [==============================] - 0s 24ms/step - loss: 0.7243 - accuracy: 0.7583 - val_loss: 0.7537 - val_accuracy: 0.7250\n",
      "Epoch 45/100\n",
      "17/17 [==============================] - 0s 25ms/step - loss: 0.7127 - accuracy: 0.7648 - val_loss: 0.7431 - val_accuracy: 0.7333\n",
      "Epoch 46/100\n",
      "17/17 [==============================] - 0s 24ms/step - loss: 0.7033 - accuracy: 0.7676 - val_loss: 0.7338 - val_accuracy: 0.7333\n",
      "Epoch 47/100\n",
      "17/17 [==============================] - 0s 25ms/step - loss: 0.6922 - accuracy: 0.7722 - val_loss: 0.7253 - val_accuracy: 0.7417\n",
      "Epoch 48/100\n",
      "17/17 [==============================] - 0s 24ms/step - loss: 0.6839 - accuracy: 0.7759 - val_loss: 0.7154 - val_accuracy: 0.7417\n",
      "Epoch 49/100\n",
      "17/17 [==============================] - 0s 24ms/step - loss: 0.6732 - accuracy: 0.7806 - val_loss: 0.7072 - val_accuracy: 0.7333\n",
      "Epoch 50/100\n",
      "17/17 [==============================] - 0s 24ms/step - loss: 0.6656 - accuracy: 0.7806 - val_loss: 0.6979 - val_accuracy: 0.7500\n",
      "Epoch 51/100\n",
      "17/17 [==============================] - 0s 24ms/step - loss: 0.6552 - accuracy: 0.7824 - val_loss: 0.6911 - val_accuracy: 0.7417\n",
      "Epoch 52/100\n",
      "17/17 [==============================] - 0s 26ms/step - loss: 0.6480 - accuracy: 0.7880 - val_loss: 0.6814 - val_accuracy: 0.7500\n",
      "Epoch 53/100\n",
      "17/17 [==============================] - 0s 25ms/step - loss: 0.6383 - accuracy: 0.7870 - val_loss: 0.6755 - val_accuracy: 0.7500\n",
      "Epoch 54/100\n",
      "17/17 [==============================] - 0s 25ms/step - loss: 0.6314 - accuracy: 0.7917 - val_loss: 0.6668 - val_accuracy: 0.7500\n",
      "Epoch 55/100\n",
      "17/17 [==============================] - 0s 24ms/step - loss: 0.6227 - accuracy: 0.7991 - val_loss: 0.6607 - val_accuracy: 0.7500\n",
      "Epoch 56/100\n",
      "17/17 [==============================] - 0s 25ms/step - loss: 0.6159 - accuracy: 0.8009 - val_loss: 0.6518 - val_accuracy: 0.7500\n",
      "Epoch 57/100\n",
      "17/17 [==============================] - 0s 25ms/step - loss: 0.6078 - accuracy: 0.8056 - val_loss: 0.6461 - val_accuracy: 0.7583\n",
      "Epoch 58/100\n",
      "17/17 [==============================] - 0s 24ms/step - loss: 0.6014 - accuracy: 0.8083 - val_loss: 0.6364 - val_accuracy: 0.7583\n",
      "Epoch 59/100\n",
      "17/17 [==============================] - 0s 27ms/step - loss: 0.5936 - accuracy: 0.8148 - val_loss: 0.6310 - val_accuracy: 0.7667\n",
      "Epoch 60/100\n",
      "17/17 [==============================] - 0s 25ms/step - loss: 0.5876 - accuracy: 0.8139 - val_loss: 0.6219 - val_accuracy: 0.7750\n",
      "Epoch 61/100\n",
      "17/17 [==============================] - 0s 28ms/step - loss: 0.5802 - accuracy: 0.8157 - val_loss: 0.6181 - val_accuracy: 0.7750\n",
      "Epoch 62/100\n",
      "17/17 [==============================] - 0s 26ms/step - loss: 0.5751 - accuracy: 0.8148 - val_loss: 0.6079 - val_accuracy: 0.7750\n",
      "Epoch 63/100\n",
      "17/17 [==============================] - 0s 27ms/step - loss: 0.5682 - accuracy: 0.8185 - val_loss: 0.6043 - val_accuracy: 0.7667\n",
      "Epoch 64/100\n",
      "17/17 [==============================] - 0s 25ms/step - loss: 0.5628 - accuracy: 0.8176 - val_loss: 0.5952 - val_accuracy: 0.7833\n",
      "Epoch 65/100\n",
      "17/17 [==============================] - 0s 28ms/step - loss: 0.5562 - accuracy: 0.8222 - val_loss: 0.5919 - val_accuracy: 0.7750\n",
      "Epoch 66/100\n",
      "17/17 [==============================] - 1s 31ms/step - loss: 0.5509 - accuracy: 0.8250 - val_loss: 0.5821 - val_accuracy: 0.7917\n",
      "Epoch 67/100\n",
      "17/17 [==============================] - 0s 29ms/step - loss: 0.5447 - accuracy: 0.8269 - val_loss: 0.5794 - val_accuracy: 0.7750\n",
      "Epoch 68/100\n",
      "17/17 [==============================] - 0s 29ms/step - loss: 0.5396 - accuracy: 0.8296 - val_loss: 0.5706 - val_accuracy: 0.7917\n",
      "Epoch 69/100\n",
      "17/17 [==============================] - 0s 27ms/step - loss: 0.5338 - accuracy: 0.8324 - val_loss: 0.5675 - val_accuracy: 0.7833\n",
      "Epoch 70/100\n",
      "17/17 [==============================] - 1s 38ms/step - loss: 0.5289 - accuracy: 0.8324 - val_loss: 0.5588 - val_accuracy: 0.8000\n",
      "Epoch 71/100\n",
      "17/17 [==============================] - 0s 29ms/step - loss: 0.5233 - accuracy: 0.8370 - val_loss: 0.5561 - val_accuracy: 0.8083\n",
      "Epoch 72/100\n",
      "17/17 [==============================] - 0s 28ms/step - loss: 0.5189 - accuracy: 0.8370 - val_loss: 0.5462 - val_accuracy: 0.8083\n",
      "Epoch 73/100\n",
      "17/17 [==============================] - 1s 36ms/step - loss: 0.5131 - accuracy: 0.8380 - val_loss: 0.5437 - val_accuracy: 0.8167\n",
      "Epoch 74/100\n",
      "17/17 [==============================] - 0s 26ms/step - loss: 0.5080 - accuracy: 0.8370 - val_loss: 0.5362 - val_accuracy: 0.8083\n",
      "Epoch 75/100\n",
      "17/17 [==============================] - 0s 26ms/step - loss: 0.5028 - accuracy: 0.8380 - val_loss: 0.5330 - val_accuracy: 0.8167\n",
      "Epoch 76/100\n",
      "17/17 [==============================] - 0s 30ms/step - loss: 0.4980 - accuracy: 0.8435 - val_loss: 0.5258 - val_accuracy: 0.8167\n",
      "Epoch 77/100\n",
      "17/17 [==============================] - 0s 27ms/step - loss: 0.4934 - accuracy: 0.8407 - val_loss: 0.5234 - val_accuracy: 0.8167\n",
      "Epoch 78/100\n",
      "17/17 [==============================] - 0s 26ms/step - loss: 0.4888 - accuracy: 0.8444 - val_loss: 0.5168 - val_accuracy: 0.8250\n",
      "Epoch 79/100\n",
      "17/17 [==============================] - 0s 27ms/step - loss: 0.4840 - accuracy: 0.8463 - val_loss: 0.5146 - val_accuracy: 0.8250\n",
      "Epoch 80/100\n",
      "17/17 [==============================] - 0s 26ms/step - loss: 0.4794 - accuracy: 0.8472 - val_loss: 0.5077 - val_accuracy: 0.8250\n",
      "Epoch 81/100\n",
      "17/17 [==============================] - 0s 27ms/step - loss: 0.4756 - accuracy: 0.8519 - val_loss: 0.5052 - val_accuracy: 0.8250\n",
      "Epoch 82/100\n",
      "17/17 [==============================] - 0s 25ms/step - loss: 0.4709 - accuracy: 0.8528 - val_loss: 0.4986 - val_accuracy: 0.8250\n",
      "Epoch 83/100\n",
      "17/17 [==============================] - 0s 24ms/step - loss: 0.4663 - accuracy: 0.8546 - val_loss: 0.4953 - val_accuracy: 0.8250\n",
      "Epoch 84/100\n",
      "17/17 [==============================] - 0s 24ms/step - loss: 0.4619 - accuracy: 0.8556 - val_loss: 0.4902 - val_accuracy: 0.8250\n",
      "Epoch 85/100\n",
      "17/17 [==============================] - 0s 24ms/step - loss: 0.4576 - accuracy: 0.8574 - val_loss: 0.4874 - val_accuracy: 0.8250\n",
      "Epoch 86/100\n",
      "17/17 [==============================] - 0s 25ms/step - loss: 0.4533 - accuracy: 0.8583 - val_loss: 0.4823 - val_accuracy: 0.8333\n",
      "Epoch 87/100\n",
      "17/17 [==============================] - 0s 24ms/step - loss: 0.4497 - accuracy: 0.8602 - val_loss: 0.4805 - val_accuracy: 0.8333\n",
      "Epoch 88/100\n",
      "17/17 [==============================] - 0s 25ms/step - loss: 0.4456 - accuracy: 0.8602 - val_loss: 0.4760 - val_accuracy: 0.8333\n",
      "Epoch 89/100\n",
      "17/17 [==============================] - 0s 26ms/step - loss: 0.4417 - accuracy: 0.8620 - val_loss: 0.4729 - val_accuracy: 0.8333\n",
      "Epoch 90/100\n",
      "17/17 [==============================] - 0s 25ms/step - loss: 0.4379 - accuracy: 0.8639 - val_loss: 0.4697 - val_accuracy: 0.8417\n",
      "Epoch 91/100\n",
      "17/17 [==============================] - 0s 24ms/step - loss: 0.4337 - accuracy: 0.8648 - val_loss: 0.4656 - val_accuracy: 0.8417\n",
      "Epoch 92/100\n",
      "17/17 [==============================] - 0s 24ms/step - loss: 0.4295 - accuracy: 0.8648 - val_loss: 0.4624 - val_accuracy: 0.8417\n",
      "Epoch 93/100\n",
      "17/17 [==============================] - 0s 25ms/step - loss: 0.4253 - accuracy: 0.8667 - val_loss: 0.4584 - val_accuracy: 0.8333\n",
      "Epoch 94/100\n",
      "17/17 [==============================] - 0s 25ms/step - loss: 0.4216 - accuracy: 0.8676 - val_loss: 0.4563 - val_accuracy: 0.8417\n",
      "Epoch 95/100\n",
      "17/17 [==============================] - 0s 27ms/step - loss: 0.4181 - accuracy: 0.8704 - val_loss: 0.4528 - val_accuracy: 0.8417\n",
      "Epoch 96/100\n",
      "17/17 [==============================] - 0s 24ms/step - loss: 0.4145 - accuracy: 0.8722 - val_loss: 0.4500 - val_accuracy: 0.8417\n",
      "Epoch 97/100\n",
      "17/17 [==============================] - 0s 25ms/step - loss: 0.4111 - accuracy: 0.8731 - val_loss: 0.4467 - val_accuracy: 0.8417\n",
      "Epoch 98/100\n",
      "17/17 [==============================] - 0s 28ms/step - loss: 0.4077 - accuracy: 0.8722 - val_loss: 0.4439 - val_accuracy: 0.8417\n",
      "Epoch 99/100\n",
      "17/17 [==============================] - 0s 25ms/step - loss: 0.4045 - accuracy: 0.8731 - val_loss: 0.4409 - val_accuracy: 0.8417\n",
      "Epoch 100/100\n",
      "17/17 [==============================] - 0s 25ms/step - loss: 0.4012 - accuracy: 0.8731 - val_loss: 0.4380 - val_accuracy: 0.8417\n"
     ]
    }
   ],
   "source": [
    "train_dataset = tf.data.Dataset.from_tensor_slices((X_train, Y_train)).batch(64)\n",
    "test_dataset = tf.data.Dataset.from_tensor_slices((X_test, Y_test)).batch(64)\n",
    "history = conv_model.fit(train_dataset, epochs=100, validation_data=test_dataset)"
   ]
  },
  {
   "cell_type": "markdown",
   "metadata": {},
   "source": [
    "<a name='5'></a>\n",
    "## 5 - History Object \n",
    "\n",
    "The history object is an output of the `.fit()` operation, and provides a record of all the loss and metric values in memory. It's stored as a dictionary that you can retrieve at `history.history`: "
   ]
  },
  {
   "cell_type": "code",
   "execution_count": 30,
   "metadata": {},
   "outputs": [
    {
     "data": {
      "text/plain": [
       "{'loss': [1.7962111234664917,\n",
       "  1.785854697227478,\n",
       "  1.7805640697479248,\n",
       "  1.7744520902633667,\n",
       "  1.7654037475585938,\n",
       "  1.7523866891860962,\n",
       "  1.7350908517837524,\n",
       "  1.7118451595306396,\n",
       "  1.6803562641143799,\n",
       "  1.6435514688491821,\n",
       "  1.599021077156067,\n",
       "  1.5495262145996094,\n",
       "  1.4987045526504517,\n",
       "  1.4451149702072144,\n",
       "  1.3961061239242554,\n",
       "  1.3469609022140503,\n",
       "  1.301936149597168,\n",
       "  1.2568204402923584,\n",
       "  1.2192429304122925,\n",
       "  1.1830379962921143,\n",
       "  1.1512205600738525,\n",
       "  1.1204200983047485,\n",
       "  1.0917826890945435,\n",
       "  1.0644810199737549,\n",
       "  1.0396429300308228,\n",
       "  1.0156855583190918,\n",
       "  0.9934751391410828,\n",
       "  0.9723432660102844,\n",
       "  0.9510667324066162,\n",
       "  0.9314451813697815,\n",
       "  0.9125218391418457,\n",
       "  0.8938146233558655,\n",
       "  0.875274121761322,\n",
       "  0.8583560585975647,\n",
       "  0.842593252658844,\n",
       "  0.8267621397972107,\n",
       "  0.8123934864997864,\n",
       "  0.798089325428009,\n",
       "  0.7847039699554443,\n",
       "  0.7717977166175842,\n",
       "  0.7592002749443054,\n",
       "  0.747376024723053,\n",
       "  0.7353293895721436,\n",
       "  0.7242705225944519,\n",
       "  0.7127411961555481,\n",
       "  0.7032794952392578,\n",
       "  0.6922246813774109,\n",
       "  0.6838883757591248,\n",
       "  0.6732046604156494,\n",
       "  0.6655591726303101,\n",
       "  0.6552130579948425,\n",
       "  0.6480041742324829,\n",
       "  0.638331413269043,\n",
       "  0.6314078569412231,\n",
       "  0.6227119565010071,\n",
       "  0.6158632040023804,\n",
       "  0.6077744364738464,\n",
       "  0.601405143737793,\n",
       "  0.5936029553413391,\n",
       "  0.5876379609107971,\n",
       "  0.5802384614944458,\n",
       "  0.5751184225082397,\n",
       "  0.5681906342506409,\n",
       "  0.5628239512443542,\n",
       "  0.5562201142311096,\n",
       "  0.5509149432182312,\n",
       "  0.5447277426719666,\n",
       "  0.5395885109901428,\n",
       "  0.5338224768638611,\n",
       "  0.5289473533630371,\n",
       "  0.5232667922973633,\n",
       "  0.518869161605835,\n",
       "  0.5130603909492493,\n",
       "  0.5080086588859558,\n",
       "  0.5027959942817688,\n",
       "  0.49804428219795227,\n",
       "  0.49342527985572815,\n",
       "  0.4888013005256653,\n",
       "  0.4840277135372162,\n",
       "  0.47943630814552307,\n",
       "  0.47561001777648926,\n",
       "  0.47090771794319153,\n",
       "  0.46630528569221497,\n",
       "  0.4618699252605438,\n",
       "  0.4576464593410492,\n",
       "  0.4533424973487854,\n",
       "  0.4496952295303345,\n",
       "  0.44564828276634216,\n",
       "  0.441726416349411,\n",
       "  0.4378737807273865,\n",
       "  0.4336543381214142,\n",
       "  0.4294886589050293,\n",
       "  0.42531684041023254,\n",
       "  0.42156028747558594,\n",
       "  0.4181431531906128,\n",
       "  0.41449546813964844,\n",
       "  0.41114726662635803,\n",
       "  0.40774863958358765,\n",
       "  0.40445417165756226,\n",
       "  0.40124690532684326],\n",
       " 'accuracy': [0.18425926566123962,\n",
       "  0.2092592567205429,\n",
       "  0.24537037312984467,\n",
       "  0.2925925850868225,\n",
       "  0.3361110985279083,\n",
       "  0.3333333432674408,\n",
       "  0.35185185074806213,\n",
       "  0.3583333194255829,\n",
       "  0.3722222149372101,\n",
       "  0.39629629254341125,\n",
       "  0.4453703761100769,\n",
       "  0.4564814865589142,\n",
       "  0.4842592477798462,\n",
       "  0.4972222149372101,\n",
       "  0.5138888955116272,\n",
       "  0.529629647731781,\n",
       "  0.5333333611488342,\n",
       "  0.5638889074325562,\n",
       "  0.5740740895271301,\n",
       "  0.5814814567565918,\n",
       "  0.5898148417472839,\n",
       "  0.6037036776542664,\n",
       "  0.6157407164573669,\n",
       "  0.6296296119689941,\n",
       "  0.6435185074806213,\n",
       "  0.654629647731781,\n",
       "  0.6638888716697693,\n",
       "  0.6694444417953491,\n",
       "  0.6759259104728699,\n",
       "  0.6898148059844971,\n",
       "  0.6981481313705444,\n",
       "  0.7055555582046509,\n",
       "  0.7111111283302307,\n",
       "  0.720370352268219,\n",
       "  0.7240740656852722,\n",
       "  0.7333333492279053,\n",
       "  0.7379629611968994,\n",
       "  0.739814817905426,\n",
       "  0.7435185313224792,\n",
       "  0.7481481432914734,\n",
       "  0.75,\n",
       "  0.7527777552604675,\n",
       "  0.7555555701255798,\n",
       "  0.7583333253860474,\n",
       "  0.7648147940635681,\n",
       "  0.7675926089286804,\n",
       "  0.7722222208976746,\n",
       "  0.7759259343147278,\n",
       "  0.7805555462837219,\n",
       "  0.7805555462837219,\n",
       "  0.7824074029922485,\n",
       "  0.7879629731178284,\n",
       "  0.7870370149612427,\n",
       "  0.7916666865348816,\n",
       "  0.7990740537643433,\n",
       "  0.8009259104728699,\n",
       "  0.8055555820465088,\n",
       "  0.8083333373069763,\n",
       "  0.8148148059844971,\n",
       "  0.8138889074325562,\n",
       "  0.8157407641410828,\n",
       "  0.8148148059844971,\n",
       "  0.8185185194015503,\n",
       "  0.8175926208496094,\n",
       "  0.8222222328186035,\n",
       "  0.824999988079071,\n",
       "  0.8268518447875977,\n",
       "  0.8296296000480652,\n",
       "  0.8324074149131775,\n",
       "  0.8324074149131775,\n",
       "  0.8370370268821716,\n",
       "  0.8370370268821716,\n",
       "  0.8379629850387573,\n",
       "  0.8370370268821716,\n",
       "  0.8379629850387573,\n",
       "  0.8435184955596924,\n",
       "  0.8407407402992249,\n",
       "  0.8444444537162781,\n",
       "  0.8462963104248047,\n",
       "  0.8472222089767456,\n",
       "  0.8518518805503845,\n",
       "  0.8527777791023254,\n",
       "  0.854629635810852,\n",
       "  0.855555534362793,\n",
       "  0.8574073910713196,\n",
       "  0.8583333492279053,\n",
       "  0.8601852059364319,\n",
       "  0.8601852059364319,\n",
       "  0.8620370626449585,\n",
       "  0.8638888597488403,\n",
       "  0.864814817905426,\n",
       "  0.864814817905426,\n",
       "  0.8666666746139526,\n",
       "  0.8675925731658936,\n",
       "  0.8703703880310059,\n",
       "  0.8722222447395325,\n",
       "  0.8731481432914734,\n",
       "  0.8722222447395325,\n",
       "  0.8731481432914734,\n",
       "  0.8731481432914734],\n",
       " 'val_loss': [1.7890582084655762,\n",
       "  1.782860279083252,\n",
       "  1.778032898902893,\n",
       "  1.7714009284973145,\n",
       "  1.7632098197937012,\n",
       "  1.7520484924316406,\n",
       "  1.7357673645019531,\n",
       "  1.7125308513641357,\n",
       "  1.6831005811691284,\n",
       "  1.6471425294876099,\n",
       "  1.6011452674865723,\n",
       "  1.5534175634384155,\n",
       "  1.5017012357711792,\n",
       "  1.4509416818618774,\n",
       "  1.3997968435287476,\n",
       "  1.3523308038711548,\n",
       "  1.3037422895431519,\n",
       "  1.2596514225006104,\n",
       "  1.221137285232544,\n",
       "  1.1833878755569458,\n",
       "  1.1513383388519287,\n",
       "  1.1178624629974365,\n",
       "  1.0898951292037964,\n",
       "  1.0621718168258667,\n",
       "  1.0369393825531006,\n",
       "  1.013695478439331,\n",
       "  0.9910241961479187,\n",
       "  0.9705102443695068,\n",
       "  0.9519606232643127,\n",
       "  0.933847963809967,\n",
       "  0.9162589907646179,\n",
       "  0.9024946689605713,\n",
       "  0.8871168494224548,\n",
       "  0.8719196319580078,\n",
       "  0.8598756790161133,\n",
       "  0.8457387089729309,\n",
       "  0.8329053521156311,\n",
       "  0.820934534072876,\n",
       "  0.8096085786819458,\n",
       "  0.7972412705421448,\n",
       "  0.7859929800033569,\n",
       "  0.7751467823982239,\n",
       "  0.7634751200675964,\n",
       "  0.7537489533424377,\n",
       "  0.7430559992790222,\n",
       "  0.7337507605552673,\n",
       "  0.725317120552063,\n",
       "  0.7154186964035034,\n",
       "  0.7072030901908875,\n",
       "  0.6979458332061768,\n",
       "  0.6910746097564697,\n",
       "  0.6813819408416748,\n",
       "  0.6755050420761108,\n",
       "  0.6667593717575073,\n",
       "  0.6606987118721008,\n",
       "  0.6518176794052124,\n",
       "  0.6460738778114319,\n",
       "  0.636389434337616,\n",
       "  0.631003201007843,\n",
       "  0.6218665242195129,\n",
       "  0.6180630922317505,\n",
       "  0.6079263687133789,\n",
       "  0.6043024659156799,\n",
       "  0.5951732397079468,\n",
       "  0.5919248461723328,\n",
       "  0.5820900201797485,\n",
       "  0.5794141292572021,\n",
       "  0.5706396698951721,\n",
       "  0.5674619674682617,\n",
       "  0.5587899684906006,\n",
       "  0.5561471581459045,\n",
       "  0.5462121367454529,\n",
       "  0.5436943173408508,\n",
       "  0.5362122654914856,\n",
       "  0.5330308675765991,\n",
       "  0.5258360505104065,\n",
       "  0.5233612656593323,\n",
       "  0.5168445110321045,\n",
       "  0.5145714282989502,\n",
       "  0.5077396035194397,\n",
       "  0.5052279233932495,\n",
       "  0.49855485558509827,\n",
       "  0.49529141187667847,\n",
       "  0.49015718698501587,\n",
       "  0.48738232254981995,\n",
       "  0.48234137892723083,\n",
       "  0.4804767072200775,\n",
       "  0.4760170876979828,\n",
       "  0.47290703654289246,\n",
       "  0.46967318654060364,\n",
       "  0.46556583046913147,\n",
       "  0.4623786211013794,\n",
       "  0.45842602849006653,\n",
       "  0.4563027620315552,\n",
       "  0.4527687728404999,\n",
       "  0.4500156044960022,\n",
       "  0.4467344880104065,\n",
       "  0.44392988085746765,\n",
       "  0.44092661142349243,\n",
       "  0.438022643327713],\n",
       " 'val_accuracy': [0.2083333283662796,\n",
       "  0.21666666865348816,\n",
       "  0.24166665971279144,\n",
       "  0.32499998807907104,\n",
       "  0.32499998807907104,\n",
       "  0.32499998807907104,\n",
       "  0.32499998807907104,\n",
       "  0.375,\n",
       "  0.4000000059604645,\n",
       "  0.42500001192092896,\n",
       "  0.46666666865348816,\n",
       "  0.4833333194255829,\n",
       "  0.5166666507720947,\n",
       "  0.5333333611488342,\n",
       "  0.5333333611488342,\n",
       "  0.5333333611488342,\n",
       "  0.550000011920929,\n",
       "  0.5583333373069763,\n",
       "  0.5583333373069763,\n",
       "  0.5666666626930237,\n",
       "  0.5916666388511658,\n",
       "  0.6000000238418579,\n",
       "  0.6083333492279053,\n",
       "  0.625,\n",
       "  0.6333333253860474,\n",
       "  0.625,\n",
       "  0.6416666507720947,\n",
       "  0.6499999761581421,\n",
       "  0.6583333611488342,\n",
       "  0.6583333611488342,\n",
       "  0.6583333611488342,\n",
       "  0.6583333611488342,\n",
       "  0.675000011920929,\n",
       "  0.6916666626930237,\n",
       "  0.6916666626930237,\n",
       "  0.7083333134651184,\n",
       "  0.6916666626930237,\n",
       "  0.7166666388511658,\n",
       "  0.7083333134651184,\n",
       "  0.7250000238418579,\n",
       "  0.7250000238418579,\n",
       "  0.7250000238418579,\n",
       "  0.7250000238418579,\n",
       "  0.7250000238418579,\n",
       "  0.7333333492279053,\n",
       "  0.7333333492279053,\n",
       "  0.7416666746139526,\n",
       "  0.7416666746139526,\n",
       "  0.7333333492279053,\n",
       "  0.75,\n",
       "  0.7416666746139526,\n",
       "  0.75,\n",
       "  0.75,\n",
       "  0.75,\n",
       "  0.75,\n",
       "  0.75,\n",
       "  0.7583333253860474,\n",
       "  0.7583333253860474,\n",
       "  0.7666666507720947,\n",
       "  0.7749999761581421,\n",
       "  0.7749999761581421,\n",
       "  0.7749999761581421,\n",
       "  0.7666666507720947,\n",
       "  0.7833333611488342,\n",
       "  0.7749999761581421,\n",
       "  0.7916666865348816,\n",
       "  0.7749999761581421,\n",
       "  0.7916666865348816,\n",
       "  0.7833333611488342,\n",
       "  0.800000011920929,\n",
       "  0.8083333373069763,\n",
       "  0.8083333373069763,\n",
       "  0.8166666626930237,\n",
       "  0.8083333373069763,\n",
       "  0.8166666626930237,\n",
       "  0.8166666626930237,\n",
       "  0.8166666626930237,\n",
       "  0.824999988079071,\n",
       "  0.824999988079071,\n",
       "  0.824999988079071,\n",
       "  0.824999988079071,\n",
       "  0.824999988079071,\n",
       "  0.824999988079071,\n",
       "  0.824999988079071,\n",
       "  0.824999988079071,\n",
       "  0.8333333134651184,\n",
       "  0.8333333134651184,\n",
       "  0.8333333134651184,\n",
       "  0.8333333134651184,\n",
       "  0.8416666388511658,\n",
       "  0.8416666388511658,\n",
       "  0.8416666388511658,\n",
       "  0.8333333134651184,\n",
       "  0.8416666388511658,\n",
       "  0.8416666388511658,\n",
       "  0.8416666388511658,\n",
       "  0.8416666388511658,\n",
       "  0.8416666388511658,\n",
       "  0.8416666388511658,\n",
       "  0.8416666388511658]}"
      ]
     },
     "execution_count": 30,
     "metadata": {},
     "output_type": "execute_result"
    }
   ],
   "source": [
    "history.history"
   ]
  },
  {
   "cell_type": "markdown",
   "metadata": {},
   "source": [
    "Now visualize the loss over time using `history.history`: "
   ]
  },
  {
   "cell_type": "code",
   "execution_count": 31,
   "metadata": {},
   "outputs": [
    {
     "name": "stderr",
     "output_type": "stream",
     "text": [
      "c:\\Python\\Winpython64-3.8.2.0cod\\python-3.8.2.amd64\\lib\\site-packages\\pandas\\core\\frame.py:4125: SettingWithCopyWarning: \n",
      "A value is trying to be set on a copy of a slice from a DataFrame\n",
      "\n",
      "See the caveats in the documentation: https://pandas.pydata.org/pandas-docs/stable/user_guide/indexing.html#returning-a-view-versus-a-copy\n",
      "  return super().rename(\n"
     ]
    },
    {
     "data": {
      "text/plain": [
       "[Text(0, 0.5, 'Accuracy'), Text(0.5, 0, 'Epoch')]"
      ]
     },
     "execution_count": 31,
     "metadata": {},
     "output_type": "execute_result"
    },
    {
     "data": {
      "image/png": "[encoded data removed]",
      "text/plain": [
       "<Figure size 1200x800 with 1 Axes>"
      ]
     },
     "metadata": {},
     "output_type": "display_data"
    },
    {
     "data": {
      "image/png": "[encoded data removed]",
      "text/plain": [
       "<Figure size 1200x800 with 1 Axes>"
      ]
     },
     "metadata": {},
     "output_type": "display_data"
    }
   ],
   "source": [
    "# The history.history[\"loss\"] entry is a dictionary with as many values as epochs that the\n",
    "# model was trained on. \n",
    "df_loss_acc = pd.DataFrame(history.history)\n",
    "df_loss= df_loss_acc[['loss','val_loss']]\n",
    "df_loss.rename(columns={'loss':'train','val_loss':'validation'},inplace=True)\n",
    "df_acc= df_loss_acc[['accuracy','val_accuracy']]\n",
    "df_acc.rename(columns={'accuracy':'train','val_accuracy':'validation'},inplace=True)\n",
    "df_loss.plot(title='Model loss',figsize=(12,8)).set(xlabel='Epoch',ylabel='Loss')\n",
    "df_acc.plot(title='Model Accuracy',figsize=(12,8)).set(xlabel='Epoch',ylabel='Accuracy')"
   ]
  },
  {
   "cell_type": "markdown",
   "metadata": {},
   "source": [
    "**Congratulations**! You've finished the assignment and built two models: One that recognizes  smiles, and another that recognizes SIGN language with almost 80% accuracy on the test set. In addition to that, you now also understand the applications of two Keras APIs: Sequential and Functional. Nicely done! \n",
    "\n",
    "By now, you know a bit about how the Functional API works and may have glimpsed the possibilities. In your next assignment, you'll really get a feel for its power when you get the opportunity to build a very deep ConvNet, using ResNets! "
   ]
  },
  {
   "cell_type": "markdown",
   "metadata": {},
   "source": [
    "<a name='6'></a>\n",
    "## 6 - Bibliography\n",
    "\n",
    "You're always encouraged to read the official documentation. To that end, you can find the docs for the Sequential and Functional APIs here: \n",
    "\n",
    "https://www.tensorflow.org/guide/keras/sequential_model\n",
    "\n",
    "https://www.tensorflow.org/guide/keras/functional"
   ]
  },
  {
   "cell_type": "code",
   "execution_count": null,
   "metadata": {},
   "outputs": [],
   "source": []
  }
 ],
 "metadata": {
  "coursera": {
   "course_slug": "convolutional-neural-networks",
   "graded_item_id": "bwbJV",
   "launcher_item_id": "0TkXB"
  },
  "kernelspec": {
   "display_name": "Python 3",
   "language": "python",
   "name": "python3"
  },
  "language_info": {
   "codemirror_mode": {
    "name": "ipython",
    "version": 3
   },
   "file_extension": ".py",
   "mimetype": "text/x-python",
   "name": "python",
   "nbconvert_exporter": "python",
   "pygments_lexer": "ipython3",
   "version": "3.8.2"
  }
 },
 "nbformat": 4,
 "nbformat_minor": 2
}
